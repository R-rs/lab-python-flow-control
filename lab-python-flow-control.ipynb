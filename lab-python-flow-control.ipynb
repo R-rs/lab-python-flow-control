{
 "cells": [
  {
   "cell_type": "markdown",
   "id": "d3bfc191-8885-42ee-b0a0-bbab867c6f9f",
   "metadata": {
    "tags": []
   },
   "source": [
    "# Lab | Flow Control"
   ]
  },
  {
   "cell_type": "markdown",
   "id": "3851fcd1-cf98-4653-9c89-e003b7ec9400",
   "metadata": {},
   "source": [
    "## Exercise: Managing Customer Orders Optimized\n",
    "\n",
    "In the last lab, you were starting an online store that sells various products. To ensure smooth operations, you developed a program that manages customer orders and inventory.\n",
    "\n",
    "You did so without using flow control. Let's go a step further and improve this code.\n",
    "\n",
    "Follow the steps below to complete the exercise:\n",
    "\n",
    "1. Look at your code from the lab data structures, and improve repeated code with loops.\n",
    "\n",
    "2. Instead of asking the user to input the name of three products that a customer wants to order, do the following:\n",
    "    \n",
    "    a. Prompt the user to enter the name of a product that a customer wants to order.\n",
    "    \n",
    "    b. Add the product name to the \"customer_orders\" set.\n",
    "    \n",
    "    c. Ask the user if they want to add another product (yes/no).\n",
    "    \n",
    "    d. Continue the loop until the user does not want to add another product.\n",
    "\n",
    "3. Instead of updating the inventory by subtracting 1 from the quantity of each product, only do it for  the products that were ordered (those in \"customer_orders\")."
   ]
  },
  {
   "cell_type": "code",
   "execution_count": 12,
   "id": "33324a9a-0032-4490-9b71-2c23ab79028b",
   "metadata": {},
   "outputs": [
    {
     "name": "stdin",
     "output_type": "stream",
     "text": [
      "Number of t-shirt left 5\n",
      "Number of mug left 5\n",
      "Number of hat left 5\n",
      "Number of book left 5\n",
      "Number of keychain left 5\n"
     ]
    }
   ],
   "source": [
    "#1 Define a list called products\n",
    "products = [\"t-shirt\", \"mug\", \"hat\", \"book\", \"keychain\"]\n",
    "\n",
    "#2 Create an empty dictionary called inventory\n",
    "inventory = {}\n",
    "#print(type(inventory))\n",
    "\n",
    "#3 Inventory input\n",
    "for product in products:\n",
    "    quantity = int(input(f\"Number of {product} left\"))\n",
    "    inventory.update({product:quantity})\n",
    "#print(inventory)"
   ]
  },
  {
   "cell_type": "code",
   "execution_count": 17,
   "id": "6241db45-236b-458d-8d16-b2f2ef83dd84",
   "metadata": {},
   "outputs": [
    {
     "name": "stdin",
     "output_type": "stream",
     "text": [
      "Customer order:  mug\n",
      "Do you wish to continue placing order, type 'yes' or 'no'? yes\n",
      "Customer order:  hat\n",
      "Do you wish to continue placing order, type 'yes' or 'no'? yes\n",
      "Customer order:  book\n",
      "Do you wish to continue placing order, type 'yes' or 'no'? no\n"
     ]
    }
   ],
   "source": [
    "#4 Create an empty set called customer_orders\n",
    "customer_orders = set()\n",
    "#print(type(customer_orders))\n",
    "\n",
    "#5 Customer orders input\n",
    "user_intention = \"yes\"\n",
    "\n",
    "while user_intention == \"yes\":\n",
    "    item = input(\"Customer order: \")\n",
    "    if item in products:\n",
    "        customer_orders.add(item)\n",
    "    else:\n",
    "        print(\"The product you inserted is not part of our inventory\")\n",
    "        \n",
    "    user_intention = input(\"Do you wish to continue placing order, type 'yes' or 'no'?\")   "
   ]
  },
  {
   "cell_type": "code",
   "execution_count": 18,
   "id": "30f8af18-3420-4e9b-b0a3-588fd587d998",
   "metadata": {},
   "outputs": [
    {
     "name": "stdout",
     "output_type": "stream",
     "text": [
      "Customer Orders:  {'mug', 'book', 'hat'}\n",
      "\n",
      "Order Statistics:\n",
      "Total Products Ordered:3\n",
      "Percentage of Products Ordered: 12.0%\n"
     ]
    }
   ],
   "source": [
    "#6 Print customer orders\n",
    "print(\"Customer Orders: \",customer_orders)\n",
    "print()\n",
    "\n",
    "#7 Order Statistics\n",
    "total_items=sum(inventory.values())\n",
    "#print(total_items)\n",
    "percentage_order=len(customer_orders)/total_items*100\n",
    "order_status=(len(customer_orders),percentage_order)\n",
    "#print(order_status)\n",
    "\n",
    "#8 Order statistics - f string print\n",
    "print(f\"\"\"Order Statistics:\n",
    "Total Products Ordered:{len(customer_orders)}\n",
    "Percentage of Products Ordered: {percentage_order}%\"\"\")"
   ]
  },
  {
   "cell_type": "code",
   "execution_count": 19,
   "id": "43f6b069-57cd-4e40-9fd6-be4f807ccaae",
   "metadata": {},
   "outputs": [
    {
     "name": "stdout",
     "output_type": "stream",
     "text": [
      "{'t-shirt': 5, 'mug': 4, 'hat': 4, 'book': 4, 'keychain': 5}\n"
     ]
    }
   ],
   "source": [
    "#9 Updating inventory. Removing one from the 'product' when it corresponds to a customer order\n",
    "for key, value in inventory.items():\n",
    "    for i in customer_orders:\n",
    "        if key==i:\n",
    "            inventory[key]=value-1\n",
    "\n",
    "print(inventory)"
   ]
  },
  {
   "cell_type": "code",
   "execution_count": 20,
   "id": "884d86bb-cde6-420d-881e-c8eab152fe02",
   "metadata": {},
   "outputs": [
    {
     "name": "stdout",
     "output_type": "stream",
     "text": [
      "t-shirt 5\n",
      "mug 4\n",
      "hat 4\n",
      "book 4\n",
      "keychain 5\n"
     ]
    }
   ],
   "source": [
    "#10 Display of updated inventory\n",
    "for key,value in inventory.items():\n",
    "    print(key,value)"
   ]
  }
 ],
 "metadata": {
  "kernelspec": {
   "display_name": "Python 3 (ipykernel)",
   "language": "python",
   "name": "python3"
  },
  "language_info": {
   "codemirror_mode": {
    "name": "ipython",
    "version": 3
   },
   "file_extension": ".py",
   "mimetype": "text/x-python",
   "name": "python",
   "nbconvert_exporter": "python",
   "pygments_lexer": "ipython3",
   "version": "3.11.7"
  }
 },
 "nbformat": 4,
 "nbformat_minor": 5
}
